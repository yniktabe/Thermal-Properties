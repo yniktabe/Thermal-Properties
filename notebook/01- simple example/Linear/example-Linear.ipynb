{
 "cells": [
  {
   "cell_type": "markdown",
   "metadata": {},
   "source": [
    "This example is for the clastic rock group. \\\n",
    "The input data are RHOB, PHIN and Vp (considering that all three logs are available, linear model number 12 has been used)."
   ]
  },
  {
   "cell_type": "code",
   "execution_count": 1,
   "metadata": {
    "ExecuteTime": {
     "end_time": "2024-04-11T12:38:57.675863Z",
     "start_time": "2024-04-11T12:38:56.346598Z"
    },
    "colab": {
     "base_uri": "https://localhost:8080/"
    },
    "id": "naLFqv7hau0U",
    "outputId": "d4c2b8e8-c0c6-4a03-c97e-8218872ebd2d"
   },
   "outputs": [],
   "source": [
    "import pandas as pd\n",
    "import numpy as np\n",
    "from joblib import load"
   ]
  },
  {
   "cell_type": "code",
   "execution_count": 2,
   "metadata": {
    "ExecuteTime": {
     "end_time": "2024-04-11T12:38:58.667373Z",
     "start_time": "2024-04-11T12:38:58.624121Z"
    },
    "colab": {
     "base_uri": "https://localhost:8080/",
     "height": 224
    },
    "id": "OluFe6-Oa2Ss",
    "outputId": "89bf0456-3326-41ae-84c5-bb9a247de29c"
   },
   "outputs": [
    {
     "data": {
      "text/html": [
       "<div>\n",
       "<style scoped>\n",
       "    .dataframe tbody tr th:only-of-type {\n",
       "        vertical-align: middle;\n",
       "    }\n",
       "\n",
       "    .dataframe tbody tr th {\n",
       "        vertical-align: top;\n",
       "    }\n",
       "\n",
       "    .dataframe thead th {\n",
       "        text-align: right;\n",
       "    }\n",
       "</style>\n",
       "<table border=\"1\" class=\"dataframe\">\n",
       "  <thead>\n",
       "    <tr style=\"text-align: right;\">\n",
       "      <th></th>\n",
       "      <th>RHOB</th>\n",
       "      <th>PHIN</th>\n",
       "      <th>Vp</th>\n",
       "    </tr>\n",
       "  </thead>\n",
       "  <tbody>\n",
       "    <tr>\n",
       "      <th>0</th>\n",
       "      <td>2.7190</td>\n",
       "      <td>0.0780</td>\n",
       "      <td>5.995204</td>\n",
       "    </tr>\n",
       "    <tr>\n",
       "      <th>1</th>\n",
       "      <td>2.7075</td>\n",
       "      <td>0.0975</td>\n",
       "      <td>5.943536</td>\n",
       "    </tr>\n",
       "    <tr>\n",
       "      <th>2</th>\n",
       "      <td>2.6960</td>\n",
       "      <td>0.1170</td>\n",
       "      <td>5.892752</td>\n",
       "    </tr>\n",
       "    <tr>\n",
       "      <th>3</th>\n",
       "      <td>2.6845</td>\n",
       "      <td>0.1365</td>\n",
       "      <td>5.842828</td>\n",
       "    </tr>\n",
       "    <tr>\n",
       "      <th>4</th>\n",
       "      <td>2.6730</td>\n",
       "      <td>0.1560</td>\n",
       "      <td>5.793743</td>\n",
       "    </tr>\n",
       "  </tbody>\n",
       "</table>\n",
       "</div>"
      ],
      "text/plain": [
       "     RHOB    PHIN        Vp\n",
       "0  2.7190  0.0780  5.995204\n",
       "1  2.7075  0.0975  5.943536\n",
       "2  2.6960  0.1170  5.892752\n",
       "3  2.6845  0.1365  5.842828\n",
       "4  2.6730  0.1560  5.793743"
      ]
     },
     "execution_count": 2,
     "metadata": {},
     "output_type": "execute_result"
    }
   ],
   "source": [
    "d = pd.read_csv('Carbonates.csv').drop('Unnamed: 0', axis=1)\n",
    "d.head()"
   ]
  },
  {
   "cell_type": "code",
   "execution_count": 3,
   "metadata": {
    "ExecuteTime": {
     "end_time": "2024-04-11T12:39:01.448449Z",
     "start_time": "2024-04-11T12:38:59.109160Z"
    }
   },
   "outputs": [
    {
     "name": "stderr",
     "output_type": "stream",
     "text": [
      "D:\\anaconda3\\lib\\site-packages\\sklearn\\base.py:329: UserWarning: Trying to unpickle estimator LinearRegression from version 1.2.1 when using version 1.1.3. This might lead to breaking code or invalid results. Use at your own risk. For more info please refer to:\n",
      "https://scikit-learn.org/stable/model_persistence.html#security-maintainability-limitations\n",
      "  warnings.warn(\n"
     ]
    }
   ],
   "source": [
    "model = load('12.joblib')"
   ]
  },
  {
   "cell_type": "code",
   "execution_count": 4,
   "metadata": {
    "ExecuteTime": {
     "end_time": "2024-04-11T12:39:03.664637Z",
     "start_time": "2024-04-11T12:39:03.649731Z"
    }
   },
   "outputs": [
    {
     "data": {
      "text/plain": [
       "array([ 818.88822092,  868.36359127,  917.79412691,  967.18096735,\n",
       "       1016.5252139 , 1065.82793107, 1115.0901482 ,  798.31781026,\n",
       "        847.79161515,  897.22062534,  946.60597894,  995.94877591,\n",
       "       1045.25007955, 1094.51091809,  777.7473449 ,  827.21958581,\n",
       "        876.64707183,  926.0309399 ,  975.37228856, 1024.67217995,\n",
       "       1073.93164107,  757.17682496,  806.64750325,  856.07346653,\n",
       "        905.45585028,  954.7957519 , 1004.09423226, 1053.35231712,\n",
       "        736.60625048,  786.07536748,  835.49980938,  884.88071019,\n",
       "        934.21916604,  983.51623658, 1032.77294635,  765.50317865,\n",
       "        814.92610043,  864.30551958,  913.64253093,  962.93819286,\n",
       "       1012.19352877,  794.35233979,  843.73027859,  893.06584671,\n",
       "        942.36010121,  991.61406442,  823.15498723,  872.48911334,\n",
       "        921.78196168,  971.03455336,  851.91233086,  901.20377426,\n",
       "        950.45499557,  880.62553901,  929.87539118,  909.29574011,\n",
       "        793.65367588,  843.12904622,  892.55958186,  941.94642231,\n",
       "        991.29066885, 1040.59338603, 1089.85560315,  773.08326521,\n",
       "        822.5570701 ,  871.98608029,  921.37143389,  970.71423086,\n",
       "       1020.01553451, 1069.27637305,  752.51279985,  801.98504076,\n",
       "        851.41252678,  900.79639485,  950.13774351,  999.4376349 ,\n",
       "       1048.69709602,  731.94227991,  781.41295821,  830.83892148,\n",
       "        880.22130524,  929.56120686,  978.85968721, 1028.11777207,\n",
       "        760.84082244,  810.26526433,  859.64616515,  908.984621  ,\n",
       "        958.28169153, 1007.53840131,  789.69155538,  839.07097453,\n",
       "        888.40798588,  937.70364781,  986.95898372,  818.49573354,\n",
       "        867.83130166,  917.12555616,  966.37951937,  847.25456829])"
      ]
     },
     "execution_count": 4,
     "metadata": {},
     "output_type": "execute_result"
    }
   ],
   "source": [
    "PC_predicted = model.predict(d)\n",
    "PC_predicted"
   ]
  },
  {
   "cell_type": "code",
   "execution_count": null,
   "metadata": {},
   "outputs": [],
   "source": []
  }
 ],
 "metadata": {
  "accelerator": "GPU",
  "colab": {
   "collapsed_sections": [
    "-UUSIJ53bb71",
    "WoB9TsN-bh3c",
    "Ny9-K4BUcP28",
    "SmDbP9EopmQP",
    "XvhW1rX6q6u2",
    "dAfBugJyrEEx",
    "l2m4wS4_uvyJ",
    "Fia4jf1Ujy8s",
    "6nk8YUkRyb-v",
    "T-myGv65RaGA",
    "SMVFb6VBbGW3",
    "IB6nXZdeVq9q",
    "jGeLpvHEVviv",
    "LeJrDwj8VzYI"
   ],
   "provenance": []
  },
  "gpuClass": "premium",
  "kernelspec": {
   "display_name": "Python 3 (ipykernel)",
   "language": "python",
   "name": "python3"
  },
  "language_info": {
   "codemirror_mode": {
    "name": "ipython",
    "version": 3
   },
   "file_extension": ".py",
   "mimetype": "text/x-python",
   "name": "python",
   "nbconvert_exporter": "python",
   "pygments_lexer": "ipython3",
   "version": "3.9.12"
  },
  "toc": {
   "base_numbering": 1,
   "nav_menu": {},
   "number_sections": true,
   "sideBar": true,
   "skip_h1_title": false,
   "title_cell": "Table of Contents",
   "title_sidebar": "Contents",
   "toc_cell": false,
   "toc_position": {},
   "toc_section_display": true,
   "toc_window_display": false
  },
  "varInspector": {
   "cols": {
    "lenName": 16,
    "lenType": 16,
    "lenVar": 40
   },
   "kernels_config": {
    "python": {
     "delete_cmd_postfix": "",
     "delete_cmd_prefix": "del ",
     "library": "var_list.py",
     "varRefreshCmd": "print(var_dic_list())"
    },
    "r": {
     "delete_cmd_postfix": ") ",
     "delete_cmd_prefix": "rm(",
     "library": "var_list.r",
     "varRefreshCmd": "cat(var_dic_list()) "
    }
   },
   "types_to_exclude": [
    "module",
    "function",
    "builtin_function_or_method",
    "instance",
    "_Feature"
   ],
   "window_display": false
  },
  "vscode": {
   "interpreter": {
    "hash": "49cb93f377a7abe7414b7b0f21fb3017538004a126cf690fb524202736b7fb92"
   }
  }
 },
 "nbformat": 4,
 "nbformat_minor": 1
}
