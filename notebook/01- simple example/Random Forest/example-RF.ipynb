{
 "cells": [
  {
   "cell_type": "markdown",
   "metadata": {},
   "source": [
    "This example is for the clastic rock group. \\\n",
    "The input data are RHOB, PHIN and Vp (considering that all three logs are available, RF model number 12 has been used)."
   ]
  },
  {
   "cell_type": "code",
   "execution_count": 1,
   "metadata": {
    "ExecuteTime": {
     "end_time": "2024-01-12T19:00:56.427456Z",
     "start_time": "2024-01-12T19:00:55.953211Z"
    },
    "colab": {
     "base_uri": "https://localhost:8080/"
    },
    "id": "naLFqv7hau0U",
    "outputId": "d4c2b8e8-c0c6-4a03-c97e-8218872ebd2d"
   },
   "outputs": [],
   "source": [
    "import pandas as pd\n",
    "import numpy as np\n",
    "from joblib import load"
   ]
  },
  {
   "cell_type": "code",
   "execution_count": 2,
   "metadata": {
    "ExecuteTime": {
     "end_time": "2024-01-12T19:01:00.632760Z",
     "start_time": "2024-01-12T19:01:00.605263Z"
    },
    "colab": {
     "base_uri": "https://localhost:8080/",
     "height": 224
    },
    "id": "OluFe6-Oa2Ss",
    "outputId": "89bf0456-3326-41ae-84c5-bb9a247de29c"
   },
   "outputs": [
    {
     "data": {
      "text/html": [
       "<div>\n",
       "<style scoped>\n",
       "    .dataframe tbody tr th:only-of-type {\n",
       "        vertical-align: middle;\n",
       "    }\n",
       "\n",
       "    .dataframe tbody tr th {\n",
       "        vertical-align: top;\n",
       "    }\n",
       "\n",
       "    .dataframe thead th {\n",
       "        text-align: right;\n",
       "    }\n",
       "</style>\n",
       "<table border=\"1\" class=\"dataframe\">\n",
       "  <thead>\n",
       "    <tr style=\"text-align: right;\">\n",
       "      <th></th>\n",
       "      <th>RHOB</th>\n",
       "      <th>PHIN</th>\n",
       "      <th>Vp</th>\n",
       "    </tr>\n",
       "  </thead>\n",
       "  <tbody>\n",
       "    <tr>\n",
       "      <th>0</th>\n",
       "      <td>2.7190</td>\n",
       "      <td>0.0780</td>\n",
       "      <td>5.995204</td>\n",
       "    </tr>\n",
       "    <tr>\n",
       "      <th>1</th>\n",
       "      <td>2.7075</td>\n",
       "      <td>0.0975</td>\n",
       "      <td>5.943536</td>\n",
       "    </tr>\n",
       "    <tr>\n",
       "      <th>2</th>\n",
       "      <td>2.6960</td>\n",
       "      <td>0.1170</td>\n",
       "      <td>5.892752</td>\n",
       "    </tr>\n",
       "    <tr>\n",
       "      <th>3</th>\n",
       "      <td>2.6845</td>\n",
       "      <td>0.1365</td>\n",
       "      <td>5.842828</td>\n",
       "    </tr>\n",
       "    <tr>\n",
       "      <th>4</th>\n",
       "      <td>2.6730</td>\n",
       "      <td>0.1560</td>\n",
       "      <td>5.793743</td>\n",
       "    </tr>\n",
       "  </tbody>\n",
       "</table>\n",
       "</div>"
      ],
      "text/plain": [
       "     RHOB    PHIN        Vp\n",
       "0  2.7190  0.0780  5.995204\n",
       "1  2.7075  0.0975  5.943536\n",
       "2  2.6960  0.1170  5.892752\n",
       "3  2.6845  0.1365  5.842828\n",
       "4  2.6730  0.1560  5.793743"
      ]
     },
     "execution_count": 2,
     "metadata": {},
     "output_type": "execute_result"
    }
   ],
   "source": [
    "d = pd.read_csv('Carbonates.csv').drop('Unnamed: 0', axis=1)\n",
    "d.head()"
   ]
  },
  {
   "cell_type": "code",
   "execution_count": 4,
   "metadata": {
    "ExecuteTime": {
     "end_time": "2024-01-12T19:01:08.213177Z",
     "start_time": "2024-01-12T19:01:07.647472Z"
    }
   },
   "outputs": [
    {
     "name": "stderr",
     "output_type": "stream",
     "text": [
      "D:\\anaconda3\\lib\\site-packages\\sklearn\\base.py:329: UserWarning: Trying to unpickle estimator DecisionTreeRegressor from version 1.2.1 when using version 1.1.3. This might lead to breaking code or invalid results. Use at your own risk. For more info please refer to:\n",
      "https://scikit-learn.org/stable/model_persistence.html#security-maintainability-limitations\n",
      "  warnings.warn(\n",
      "D:\\anaconda3\\lib\\site-packages\\sklearn\\base.py:329: UserWarning: Trying to unpickle estimator RandomForestRegressor from version 1.2.1 when using version 1.1.3. This might lead to breaking code or invalid results. Use at your own risk. For more info please refer to:\n",
      "https://scikit-learn.org/stable/model_persistence.html#security-maintainability-limitations\n",
      "  warnings.warn(\n"
     ]
    }
   ],
   "source": [
    "model = load('12.joblib')"
   ]
  },
  {
   "cell_type": "code",
   "execution_count": 5,
   "metadata": {
    "ExecuteTime": {
     "end_time": "2024-01-12T19:01:09.343401Z",
     "start_time": "2024-01-12T19:01:09.297247Z"
    }
   },
   "outputs": [
    {
     "data": {
      "text/plain": [
       "array([861.9787413 , 861.9787413 , 868.47473829, 883.67110497,\n",
       "       883.67110497, 909.63529412, 909.63529412, 842.71170619,\n",
       "       849.64700557, 868.47473829, 883.67110497, 882.33026316,\n",
       "       898.73225806, 909.63529412, 830.8859375 , 849.64700557,\n",
       "       858.26885965, 866.25      , 878.54072165, 890.45      ,\n",
       "       898.73225806, 819.35934066, 830.8859375 , 844.49288136,\n",
       "       858.26885965, 869.32782609, 878.54072165, 890.45      ,\n",
       "       808.60630841, 819.35934066, 831.36991525, 844.49288136,\n",
       "       849.20678744, 878.54072165, 882.33026316, 808.60630841,\n",
       "       831.36991525, 844.49288136, 849.20678744, 869.32782609,\n",
       "       868.4326087 , 819.35934066, 831.36991525, 833.74469682,\n",
       "       849.20678744, 857.30730337, 810.27383966, 833.74469682,\n",
       "       833.74469682, 849.20678744, 822.02326007, 833.74469682,\n",
       "       849.20678744, 822.02326007, 833.74469682, 833.74469682,\n",
       "       861.9787413 , 861.9787413 , 868.47473829, 883.67110497,\n",
       "       883.67110497, 883.67110497, 909.63529412, 830.8859375 ,\n",
       "       861.9787413 , 861.9787413 , 868.47473829, 883.67110497,\n",
       "       890.45      , 898.73225806, 819.35934066, 842.71170619,\n",
       "       849.64700557, 868.47473829, 869.32782609, 882.33026316,\n",
       "       890.45      , 808.60630841, 819.35934066, 843.83168421,\n",
       "       858.26885965, 849.20678744, 878.54072165, 882.33026316,\n",
       "       819.35934066, 830.8859375 , 844.49288136, 849.20678744,\n",
       "       869.32782609, 868.4326087 , 819.35934066, 831.36991525,\n",
       "       833.74469682, 849.20678744, 868.4326087 , 831.36991525,\n",
       "       833.74469682, 849.20678744, 849.20678744, 822.02326007])"
      ]
     },
     "execution_count": 5,
     "metadata": {},
     "output_type": "execute_result"
    }
   ],
   "source": [
    "PC_predicted = model.predict(d)\n",
    "PC_predicted"
   ]
  },
  {
   "cell_type": "code",
   "execution_count": null,
   "metadata": {},
   "outputs": [],
   "source": []
  }
 ],
 "metadata": {
  "accelerator": "GPU",
  "colab": {
   "collapsed_sections": [
    "-UUSIJ53bb71",
    "WoB9TsN-bh3c",
    "Ny9-K4BUcP28",
    "SmDbP9EopmQP",
    "XvhW1rX6q6u2",
    "dAfBugJyrEEx",
    "l2m4wS4_uvyJ",
    "Fia4jf1Ujy8s",
    "6nk8YUkRyb-v",
    "T-myGv65RaGA",
    "SMVFb6VBbGW3",
    "IB6nXZdeVq9q",
    "jGeLpvHEVviv",
    "LeJrDwj8VzYI"
   ],
   "provenance": []
  },
  "gpuClass": "premium",
  "kernelspec": {
   "display_name": "Python 3 (ipykernel)",
   "language": "python",
   "name": "python3"
  },
  "language_info": {
   "codemirror_mode": {
    "name": "ipython",
    "version": 3
   },
   "file_extension": ".py",
   "mimetype": "text/x-python",
   "name": "python",
   "nbconvert_exporter": "python",
   "pygments_lexer": "ipython3",
   "version": "3.9.12"
  },
  "toc": {
   "base_numbering": 1,
   "nav_menu": {},
   "number_sections": true,
   "sideBar": true,
   "skip_h1_title": false,
   "title_cell": "Table of Contents",
   "title_sidebar": "Contents",
   "toc_cell": false,
   "toc_position": {},
   "toc_section_display": true,
   "toc_window_display": false
  },
  "varInspector": {
   "cols": {
    "lenName": 16,
    "lenType": 16,
    "lenVar": 40
   },
   "kernels_config": {
    "python": {
     "delete_cmd_postfix": "",
     "delete_cmd_prefix": "del ",
     "library": "var_list.py",
     "varRefreshCmd": "print(var_dic_list())"
    },
    "r": {
     "delete_cmd_postfix": ") ",
     "delete_cmd_prefix": "rm(",
     "library": "var_list.r",
     "varRefreshCmd": "cat(var_dic_list()) "
    }
   },
   "types_to_exclude": [
    "module",
    "function",
    "builtin_function_or_method",
    "instance",
    "_Feature"
   ],
   "window_display": false
  },
  "vscode": {
   "interpreter": {
    "hash": "49cb93f377a7abe7414b7b0f21fb3017538004a126cf690fb524202736b7fb92"
   }
  }
 },
 "nbformat": 4,
 "nbformat_minor": 1
}
