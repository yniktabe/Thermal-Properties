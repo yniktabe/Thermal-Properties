{
 "cells": [
  {
   "cell_type": "markdown",
   "metadata": {},
   "source": [
    "This example is for the clastic rock group. \\\n",
    "The input data are RHOB, PHIN and Vp (considering that all three logs are available, XGBoost model number 12 has been used)."
   ]
  },
  {
   "cell_type": "code",
   "execution_count": 1,
   "metadata": {
    "ExecuteTime": {
     "end_time": "2024-01-12T19:02:12.417676Z",
     "start_time": "2024-01-12T19:02:11.962882Z"
    },
    "colab": {
     "base_uri": "https://localhost:8080/"
    },
    "id": "naLFqv7hau0U",
    "outputId": "d4c2b8e8-c0c6-4a03-c97e-8218872ebd2d"
   },
   "outputs": [],
   "source": [
    "import pandas as pd\n",
    "import numpy as np\n",
    "from joblib import load"
   ]
  },
  {
   "cell_type": "code",
   "execution_count": 2,
   "metadata": {
    "ExecuteTime": {
     "end_time": "2024-01-12T19:02:13.002655Z",
     "start_time": "2024-01-12T19:02:12.963149Z"
    },
    "colab": {
     "base_uri": "https://localhost:8080/",
     "height": 224
    },
    "id": "OluFe6-Oa2Ss",
    "outputId": "89bf0456-3326-41ae-84c5-bb9a247de29c"
   },
   "outputs": [
    {
     "data": {
      "text/html": [
       "<div>\n",
       "<style scoped>\n",
       "    .dataframe tbody tr th:only-of-type {\n",
       "        vertical-align: middle;\n",
       "    }\n",
       "\n",
       "    .dataframe tbody tr th {\n",
       "        vertical-align: top;\n",
       "    }\n",
       "\n",
       "    .dataframe thead th {\n",
       "        text-align: right;\n",
       "    }\n",
       "</style>\n",
       "<table border=\"1\" class=\"dataframe\">\n",
       "  <thead>\n",
       "    <tr style=\"text-align: right;\">\n",
       "      <th></th>\n",
       "      <th>RHOB</th>\n",
       "      <th>PHIN</th>\n",
       "      <th>Vp</th>\n",
       "    </tr>\n",
       "  </thead>\n",
       "  <tbody>\n",
       "    <tr>\n",
       "      <th>0</th>\n",
       "      <td>2.7190</td>\n",
       "      <td>0.0780</td>\n",
       "      <td>5.995204</td>\n",
       "    </tr>\n",
       "    <tr>\n",
       "      <th>1</th>\n",
       "      <td>2.7075</td>\n",
       "      <td>0.0975</td>\n",
       "      <td>5.943536</td>\n",
       "    </tr>\n",
       "    <tr>\n",
       "      <th>2</th>\n",
       "      <td>2.6960</td>\n",
       "      <td>0.1170</td>\n",
       "      <td>5.892752</td>\n",
       "    </tr>\n",
       "    <tr>\n",
       "      <th>3</th>\n",
       "      <td>2.6845</td>\n",
       "      <td>0.1365</td>\n",
       "      <td>5.842828</td>\n",
       "    </tr>\n",
       "    <tr>\n",
       "      <th>4</th>\n",
       "      <td>2.6730</td>\n",
       "      <td>0.1560</td>\n",
       "      <td>5.793743</td>\n",
       "    </tr>\n",
       "  </tbody>\n",
       "</table>\n",
       "</div>"
      ],
      "text/plain": [
       "     RHOB    PHIN        Vp\n",
       "0  2.7190  0.0780  5.995204\n",
       "1  2.7075  0.0975  5.943536\n",
       "2  2.6960  0.1170  5.892752\n",
       "3  2.6845  0.1365  5.842828\n",
       "4  2.6730  0.1560  5.793743"
      ]
     },
     "execution_count": 2,
     "metadata": {},
     "output_type": "execute_result"
    }
   ],
   "source": [
    "d = pd.read_csv('Carbonates.csv').drop('Unnamed: 0', axis=1)\n",
    "d.head()"
   ]
  },
  {
   "cell_type": "code",
   "execution_count": 3,
   "metadata": {
    "ExecuteTime": {
     "end_time": "2024-01-12T19:02:15.083334Z",
     "start_time": "2024-01-12T19:02:13.975886Z"
    }
   },
   "outputs": [],
   "source": [
    "model = load('12.joblib')"
   ]
  },
  {
   "cell_type": "code",
   "execution_count": 4,
   "metadata": {
    "ExecuteTime": {
     "end_time": "2024-01-12T19:02:16.720174Z",
     "start_time": "2024-01-12T19:02:16.125450Z"
    }
   },
   "outputs": [
    {
     "data": {
      "text/plain": [
       "array([853.2812 , 860.6087 , 874.4497 , 886.37476, 895.53156, 910.57336,\n",
       "       922.0907 , 839.88696, 854.8139 , 866.5007 , 878.73676, 889.75354,\n",
       "       901.55286, 913.1791 , 831.36755, 843.93384, 857.8212 , 868.93835,\n",
       "       880.6438 , 892.50275, 904.2699 , 822.60333, 834.3183 , 848.525  ,\n",
       "       859.1827 , 871.0443 , 883.5562 , 895.5075 , 813.2899 , 826.7022 ,\n",
       "       839.4088 , 851.7682 , 862.64435, 873.3781 , 887.2294 , 813.1881 ,\n",
       "       830.29645, 842.7314 , 854.53723, 857.91376, 877.9623 , 821.3658 ,\n",
       "       834.19037, 845.3136 , 855.40594, 869.3879 , 823.8073 , 835.75305,\n",
       "       847.85547, 860.60223, 826.69476, 840.2569 , 851.4484 , 830.0755 ,\n",
       "       842.82135, 833.95746, 843.1307 , 853.4048 , 865.9311 , 877.7714 ,\n",
       "       889.35596, 901.2615 , 910.27136, 830.8535 , 845.62915, 857.30304,\n",
       "       869.14484, 880.79694, 892.33356, 904.55365, 820.98456, 837.0594 ,\n",
       "       848.74567, 860.15985, 871.39233, 884.76917, 895.37305, 814.33124,\n",
       "       826.86597, 839.6789 , 849.08887, 862.84546, 875.2503 , 885.9891 ,\n",
       "       815.3644 , 831.10986, 842.6219 , 850.3896 , 866.7093 , 875.4418 ,\n",
       "       819.5139 , 835.1416 , 846.122  , 857.3552 , 869.27185, 825.07294,\n",
       "       837.66565, 849.4536 , 859.96515, 828.2198 ], dtype=float32)"
      ]
     },
     "execution_count": 4,
     "metadata": {},
     "output_type": "execute_result"
    }
   ],
   "source": [
    "PC_predicted = model.predict(d)\n",
    "PC_predicted"
   ]
  },
  {
   "cell_type": "code",
   "execution_count": null,
   "metadata": {},
   "outputs": [],
   "source": []
  }
 ],
 "metadata": {
  "accelerator": "GPU",
  "colab": {
   "collapsed_sections": [
    "-UUSIJ53bb71",
    "WoB9TsN-bh3c",
    "Ny9-K4BUcP28",
    "SmDbP9EopmQP",
    "XvhW1rX6q6u2",
    "dAfBugJyrEEx",
    "l2m4wS4_uvyJ",
    "Fia4jf1Ujy8s",
    "6nk8YUkRyb-v",
    "T-myGv65RaGA",
    "SMVFb6VBbGW3",
    "IB6nXZdeVq9q",
    "jGeLpvHEVviv",
    "LeJrDwj8VzYI"
   ],
   "provenance": []
  },
  "gpuClass": "premium",
  "kernelspec": {
   "display_name": "Python 3 (ipykernel)",
   "language": "python",
   "name": "python3"
  },
  "language_info": {
   "codemirror_mode": {
    "name": "ipython",
    "version": 3
   },
   "file_extension": ".py",
   "mimetype": "text/x-python",
   "name": "python",
   "nbconvert_exporter": "python",
   "pygments_lexer": "ipython3",
   "version": "3.9.12"
  },
  "toc": {
   "base_numbering": 1,
   "nav_menu": {},
   "number_sections": true,
   "sideBar": true,
   "skip_h1_title": false,
   "title_cell": "Table of Contents",
   "title_sidebar": "Contents",
   "toc_cell": false,
   "toc_position": {},
   "toc_section_display": true,
   "toc_window_display": false
  },
  "varInspector": {
   "cols": {
    "lenName": 16,
    "lenType": 16,
    "lenVar": 40
   },
   "kernels_config": {
    "python": {
     "delete_cmd_postfix": "",
     "delete_cmd_prefix": "del ",
     "library": "var_list.py",
     "varRefreshCmd": "print(var_dic_list())"
    },
    "r": {
     "delete_cmd_postfix": ") ",
     "delete_cmd_prefix": "rm(",
     "library": "var_list.r",
     "varRefreshCmd": "cat(var_dic_list()) "
    }
   },
   "types_to_exclude": [
    "module",
    "function",
    "builtin_function_or_method",
    "instance",
    "_Feature"
   ],
   "window_display": false
  },
  "vscode": {
   "interpreter": {
    "hash": "49cb93f377a7abe7414b7b0f21fb3017538004a126cf690fb524202736b7fb92"
   }
  }
 },
 "nbformat": 4,
 "nbformat_minor": 1
}
