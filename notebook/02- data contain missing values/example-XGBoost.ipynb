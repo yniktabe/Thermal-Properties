{
 "cells": [
  {
   "cell_type": "markdown",
   "metadata": {},
   "source": [
    "- This example is for the clastic rock group. \n",
    "- In this example some logs are not recorded in some depths, and before using the models for prediction, we have to estimate these values with methods such as placing the mean, median, and KNN imputer. \n",
    "- The input data are RHOB, PHIN and Vp (considering that all three logs are available, XGBoost model number 12 has been used)."
   ]
  },
  {
   "cell_type": "code",
   "execution_count": 1,
   "metadata": {
    "ExecuteTime": {
     "end_time": "2024-04-11T12:53:57.100055Z",
     "start_time": "2024-04-11T12:53:56.522997Z"
    },
    "colab": {
     "base_uri": "https://localhost:8080/"
    },
    "id": "naLFqv7hau0U",
    "outputId": "d4c2b8e8-c0c6-4a03-c97e-8218872ebd2d"
   },
   "outputs": [],
   "source": [
    "import pandas as pd\n",
    "import numpy as np\n",
    "from joblib import load"
   ]
  },
  {
   "cell_type": "code",
   "execution_count": 4,
   "metadata": {
    "ExecuteTime": {
     "end_time": "2024-04-11T12:54:19.743717Z",
     "start_time": "2024-04-11T12:54:19.718696Z"
    },
    "colab": {
     "base_uri": "https://localhost:8080/",
     "height": 224
    },
    "id": "OluFe6-Oa2Ss",
    "outputId": "89bf0456-3326-41ae-84c5-bb9a247de29c"
   },
   "outputs": [
    {
     "data": {
      "text/html": [
       "<div>\n",
       "<style scoped>\n",
       "    .dataframe tbody tr th:only-of-type {\n",
       "        vertical-align: middle;\n",
       "    }\n",
       "\n",
       "    .dataframe tbody tr th {\n",
       "        vertical-align: top;\n",
       "    }\n",
       "\n",
       "    .dataframe thead th {\n",
       "        text-align: right;\n",
       "    }\n",
       "</style>\n",
       "<table border=\"1\" class=\"dataframe\">\n",
       "  <thead>\n",
       "    <tr style=\"text-align: right;\">\n",
       "      <th></th>\n",
       "      <th>RHOB</th>\n",
       "      <th>PHIN</th>\n",
       "      <th>Vp</th>\n",
       "    </tr>\n",
       "  </thead>\n",
       "  <tbody>\n",
       "    <tr>\n",
       "      <th>0</th>\n",
       "      <td>2.719</td>\n",
       "      <td>0.0780</td>\n",
       "      <td>5.995204</td>\n",
       "    </tr>\n",
       "    <tr>\n",
       "      <th>1</th>\n",
       "      <td>NaN</td>\n",
       "      <td>0.0975</td>\n",
       "      <td>5.943536</td>\n",
       "    </tr>\n",
       "    <tr>\n",
       "      <th>2</th>\n",
       "      <td>NaN</td>\n",
       "      <td>0.1170</td>\n",
       "      <td>5.892752</td>\n",
       "    </tr>\n",
       "    <tr>\n",
       "      <th>3</th>\n",
       "      <td>NaN</td>\n",
       "      <td>0.1365</td>\n",
       "      <td>5.842828</td>\n",
       "    </tr>\n",
       "    <tr>\n",
       "      <th>4</th>\n",
       "      <td>NaN</td>\n",
       "      <td>0.1560</td>\n",
       "      <td>5.793743</td>\n",
       "    </tr>\n",
       "  </tbody>\n",
       "</table>\n",
       "</div>"
      ],
      "text/plain": [
       "    RHOB    PHIN        Vp\n",
       "0  2.719  0.0780  5.995204\n",
       "1    NaN  0.0975  5.943536\n",
       "2    NaN  0.1170  5.892752\n",
       "3    NaN  0.1365  5.842828\n",
       "4    NaN  0.1560  5.793743"
      ]
     },
     "execution_count": 4,
     "metadata": {},
     "output_type": "execute_result"
    }
   ],
   "source": [
    "data = pd.read_csv('Carbonates.csv').drop('Unnamed: 0', axis=1)\n",
    "data.head()"
   ]
  },
  {
   "cell_type": "markdown",
   "metadata": {},
   "source": [
    "- With isna(), you can see the missing or unregistered values of each of the logs.\n",
    "- According to the output (for example, RHOB log) depth is not recorded for 19 and we have to estimate these values.\n",
    "- SimpleImputer and KNNImputer"
   ]
  },
  {
   "cell_type": "code",
   "execution_count": 10,
   "metadata": {
    "ExecuteTime": {
     "end_time": "2024-04-11T13:02:05.344116Z",
     "start_time": "2024-04-11T13:02:05.329238Z"
    }
   },
   "outputs": [
    {
     "data": {
      "text/plain": [
       "RHOB    19\n",
       "PHIN    16\n",
       "Vp      12\n",
       "dtype: int64"
      ]
     },
     "execution_count": 10,
     "metadata": {},
     "output_type": "execute_result"
    }
   ],
   "source": [
    "data.isna().sum()"
   ]
  },
  {
   "cell_type": "markdown",
   "metadata": {},
   "source": [
    "# Approach 1 - SimpleImputer\n",
    "For more information: https://scikit-learn.org/stable/modules/generated/sklearn.impute.SimpleImputer.html"
   ]
  },
  {
   "cell_type": "code",
   "execution_count": 20,
   "metadata": {
    "ExecuteTime": {
     "end_time": "2024-04-11T13:07:40.433529Z",
     "start_time": "2024-04-11T13:07:40.424428Z"
    }
   },
   "outputs": [],
   "source": [
    "from sklearn.impute import SimpleImputer\n",
    "imp_mean = SimpleImputer(missing_values=np.nan, strategy='mean')\n",
    "data_with_out_NAN = pd.DataFrame(imp_mean.fit_transform(data), columns=data.columns)"
   ]
  },
  {
   "cell_type": "code",
   "execution_count": 30,
   "metadata": {
    "ExecuteTime": {
     "end_time": "2024-04-11T13:09:11.606107Z",
     "start_time": "2024-04-11T13:09:11.579249Z"
    }
   },
   "outputs": [
    {
     "name": "stdout",
     "output_type": "stream",
     "text": [
      "Missing vlaues:\n",
      "RHOB    0\n",
      "PHIN    0\n",
      "Vp      0\n",
      "dtype: int64\n"
     ]
    },
    {
     "data": {
      "text/html": [
       "<div>\n",
       "<style scoped>\n",
       "    .dataframe tbody tr th:only-of-type {\n",
       "        vertical-align: middle;\n",
       "    }\n",
       "\n",
       "    .dataframe tbody tr th {\n",
       "        vertical-align: top;\n",
       "    }\n",
       "\n",
       "    .dataframe thead th {\n",
       "        text-align: right;\n",
       "    }\n",
       "</style>\n",
       "<table border=\"1\" class=\"dataframe\">\n",
       "  <thead>\n",
       "    <tr style=\"text-align: right;\">\n",
       "      <th></th>\n",
       "      <th>RHOB</th>\n",
       "      <th>PHIN</th>\n",
       "      <th>Vp</th>\n",
       "    </tr>\n",
       "  </thead>\n",
       "  <tbody>\n",
       "    <tr>\n",
       "      <th>0</th>\n",
       "      <td>2.719000</td>\n",
       "      <td>0.0780</td>\n",
       "      <td>5.995204</td>\n",
       "    </tr>\n",
       "    <tr>\n",
       "      <th>1</th>\n",
       "      <td>2.632599</td>\n",
       "      <td>0.0975</td>\n",
       "      <td>5.943536</td>\n",
       "    </tr>\n",
       "    <tr>\n",
       "      <th>2</th>\n",
       "      <td>2.632599</td>\n",
       "      <td>0.1170</td>\n",
       "      <td>5.892752</td>\n",
       "    </tr>\n",
       "    <tr>\n",
       "      <th>3</th>\n",
       "      <td>2.632599</td>\n",
       "      <td>0.1365</td>\n",
       "      <td>5.842828</td>\n",
       "    </tr>\n",
       "    <tr>\n",
       "      <th>4</th>\n",
       "      <td>2.632599</td>\n",
       "      <td>0.1560</td>\n",
       "      <td>5.793743</td>\n",
       "    </tr>\n",
       "    <tr>\n",
       "      <th>...</th>\n",
       "      <td>...</td>\n",
       "      <td>...</td>\n",
       "      <td>...</td>\n",
       "    </tr>\n",
       "    <tr>\n",
       "      <th>95</th>\n",
       "      <td>2.611000</td>\n",
       "      <td>0.0530</td>\n",
       "      <td>5.832604</td>\n",
       "    </tr>\n",
       "    <tr>\n",
       "      <th>96</th>\n",
       "      <td>2.599500</td>\n",
       "      <td>0.0725</td>\n",
       "      <td>5.783690</td>\n",
       "    </tr>\n",
       "    <tr>\n",
       "      <th>97</th>\n",
       "      <td>2.588000</td>\n",
       "      <td>0.0920</td>\n",
       "      <td>5.735589</td>\n",
       "    </tr>\n",
       "    <tr>\n",
       "      <th>98</th>\n",
       "      <td>2.576500</td>\n",
       "      <td>0.1115</td>\n",
       "      <td>5.688282</td>\n",
       "    </tr>\n",
       "    <tr>\n",
       "      <th>99</th>\n",
       "      <td>2.584500</td>\n",
       "      <td>0.0600</td>\n",
       "      <td>5.782018</td>\n",
       "    </tr>\n",
       "  </tbody>\n",
       "</table>\n",
       "<p>100 rows × 3 columns</p>\n",
       "</div>"
      ],
      "text/plain": [
       "        RHOB    PHIN        Vp\n",
       "0   2.719000  0.0780  5.995204\n",
       "1   2.632599  0.0975  5.943536\n",
       "2   2.632599  0.1170  5.892752\n",
       "3   2.632599  0.1365  5.842828\n",
       "4   2.632599  0.1560  5.793743\n",
       "..       ...     ...       ...\n",
       "95  2.611000  0.0530  5.832604\n",
       "96  2.599500  0.0725  5.783690\n",
       "97  2.588000  0.0920  5.735589\n",
       "98  2.576500  0.1115  5.688282\n",
       "99  2.584500  0.0600  5.782018\n",
       "\n",
       "[100 rows x 3 columns]"
      ]
     },
     "execution_count": 30,
     "metadata": {},
     "output_type": "execute_result"
    }
   ],
   "source": [
    "print('Missing vlaues:')\n",
    "print(data_with_out_NAN.isna().sum())\n",
    "data_with_out_NAN"
   ]
  },
  {
   "cell_type": "code",
   "execution_count": 31,
   "metadata": {
    "ExecuteTime": {
     "end_time": "2024-04-11T13:09:21.495734Z",
     "start_time": "2024-04-11T13:09:21.407787Z"
    }
   },
   "outputs": [],
   "source": [
    "model = load('12.joblib')"
   ]
  },
  {
   "cell_type": "code",
   "execution_count": 32,
   "metadata": {
    "ExecuteTime": {
     "end_time": "2024-04-11T13:09:29.376691Z",
     "start_time": "2024-04-11T13:09:29.271023Z"
    }
   },
   "outputs": [
    {
     "data": {
      "text/plain": [
       "array([853.2812 , 863.6663 , 880.69   , 881.41144, 902.5431 , 914.5154 ,\n",
       "       925.1025 , 840.6163 , 862.0619 , 862.86224, 867.2737 , 843.7783 ,\n",
       "       848.6025 , 842.9161 , 862.3669 , 855.79   , 857.8212 , 868.93835,\n",
       "       880.6438 , 892.50275, 904.2699 , 822.60333, 837.9035 , 855.4887 ,\n",
       "       859.1827 , 853.4801 , 850.33997, 845.69635, 865.2829 , 858.4325 ,\n",
       "       839.4088 , 851.7682 , 862.64435, 873.3781 , 887.2294 , 813.1881 ,\n",
       "       830.29645, 842.7314 , 854.53723, 857.91376, 877.9623 , 821.3658 ,\n",
       "       834.19037, 845.3136 , 855.40594, 869.3879 , 823.8073 , 835.75305,\n",
       "       847.85547, 860.60223, 826.69476, 840.2569 , 851.4484 , 830.0755 ,\n",
       "       842.82135, 833.95746, 843.1307 , 853.4048 , 865.9311 , 877.7714 ,\n",
       "       889.35596, 901.2615 , 910.27136, 830.8535 , 845.62915, 857.30304,\n",
       "       869.14484, 880.79694, 892.33356, 904.55365, 820.98456, 837.0594 ,\n",
       "       848.74567, 860.15985, 871.39233, 884.76917, 895.37305, 814.33124,\n",
       "       818.0288 , 829.9551 , 851.23456, 864.9729 , 880.21576, 896.8677 ,\n",
       "       808.5784 , 823.0914 , 840.4119 , 850.96686, 874.31055, 879.8512 ,\n",
       "       818.65967, 827.09924, 841.721  , 857.3552 , 869.27185, 825.07294,\n",
       "       837.66565, 849.4536 , 859.96515, 828.2198 ], dtype=float32)"
      ]
     },
     "execution_count": 32,
     "metadata": {},
     "output_type": "execute_result"
    }
   ],
   "source": [
    "PC_predicted = model.predict(data_with_out_NAN)\n",
    "PC_predicted"
   ]
  },
  {
   "cell_type": "markdown",
   "metadata": {},
   "source": [
    "# Approach 2 - KNNImputer\n",
    "For more information: https://scikit-learn.org/stable/modules/generated/sklearn.impute.KNNImputer.html"
   ]
  },
  {
   "cell_type": "code",
   "execution_count": 33,
   "metadata": {
    "ExecuteTime": {
     "end_time": "2024-04-11T13:10:43.626373Z",
     "start_time": "2024-04-11T13:10:43.611406Z"
    }
   },
   "outputs": [],
   "source": [
    "from sklearn.impute import KNNImputer\n",
    "imputer = KNNImputer(n_neighbors=2)\n",
    "data_with_out_NAN = pd.DataFrame(imputer.fit_transform(data), columns=data.columns)"
   ]
  },
  {
   "cell_type": "code",
   "execution_count": 34,
   "metadata": {
    "ExecuteTime": {
     "end_time": "2024-04-11T13:10:45.835312Z",
     "start_time": "2024-04-11T13:10:45.819622Z"
    }
   },
   "outputs": [
    {
     "name": "stdout",
     "output_type": "stream",
     "text": [
      "Missing vlaues:\n",
      "RHOB    0\n",
      "PHIN    0\n",
      "Vp      0\n",
      "dtype: int64\n"
     ]
    },
    {
     "data": {
      "text/html": [
       "<div>\n",
       "<style scoped>\n",
       "    .dataframe tbody tr th:only-of-type {\n",
       "        vertical-align: middle;\n",
       "    }\n",
       "\n",
       "    .dataframe tbody tr th {\n",
       "        vertical-align: top;\n",
       "    }\n",
       "\n",
       "    .dataframe thead th {\n",
       "        text-align: right;\n",
       "    }\n",
       "</style>\n",
       "<table border=\"1\" class=\"dataframe\">\n",
       "  <thead>\n",
       "    <tr style=\"text-align: right;\">\n",
       "      <th></th>\n",
       "      <th>RHOB</th>\n",
       "      <th>PHIN</th>\n",
       "      <th>Vp</th>\n",
       "    </tr>\n",
       "  </thead>\n",
       "  <tbody>\n",
       "    <tr>\n",
       "      <th>0</th>\n",
       "      <td>2.71900</td>\n",
       "      <td>0.0780</td>\n",
       "      <td>5.995204</td>\n",
       "    </tr>\n",
       "    <tr>\n",
       "      <th>1</th>\n",
       "      <td>2.67000</td>\n",
       "      <td>0.0975</td>\n",
       "      <td>5.943536</td>\n",
       "    </tr>\n",
       "    <tr>\n",
       "      <th>2</th>\n",
       "      <td>2.68175</td>\n",
       "      <td>0.1170</td>\n",
       "      <td>5.892752</td>\n",
       "    </tr>\n",
       "    <tr>\n",
       "      <th>3</th>\n",
       "      <td>2.65450</td>\n",
       "      <td>0.1365</td>\n",
       "      <td>5.842828</td>\n",
       "    </tr>\n",
       "    <tr>\n",
       "      <th>4</th>\n",
       "      <td>2.64300</td>\n",
       "      <td>0.1560</td>\n",
       "      <td>5.793743</td>\n",
       "    </tr>\n",
       "    <tr>\n",
       "      <th>...</th>\n",
       "      <td>...</td>\n",
       "      <td>...</td>\n",
       "      <td>...</td>\n",
       "    </tr>\n",
       "    <tr>\n",
       "      <th>95</th>\n",
       "      <td>2.61100</td>\n",
       "      <td>0.0530</td>\n",
       "      <td>5.832604</td>\n",
       "    </tr>\n",
       "    <tr>\n",
       "      <th>96</th>\n",
       "      <td>2.59950</td>\n",
       "      <td>0.0725</td>\n",
       "      <td>5.783690</td>\n",
       "    </tr>\n",
       "    <tr>\n",
       "      <th>97</th>\n",
       "      <td>2.58800</td>\n",
       "      <td>0.0920</td>\n",
       "      <td>5.735589</td>\n",
       "    </tr>\n",
       "    <tr>\n",
       "      <th>98</th>\n",
       "      <td>2.57650</td>\n",
       "      <td>0.1115</td>\n",
       "      <td>5.688282</td>\n",
       "    </tr>\n",
       "    <tr>\n",
       "      <th>99</th>\n",
       "      <td>2.58450</td>\n",
       "      <td>0.0600</td>\n",
       "      <td>5.782018</td>\n",
       "    </tr>\n",
       "  </tbody>\n",
       "</table>\n",
       "<p>100 rows × 3 columns</p>\n",
       "</div>"
      ],
      "text/plain": [
       "       RHOB    PHIN        Vp\n",
       "0   2.71900  0.0780  5.995204\n",
       "1   2.67000  0.0975  5.943536\n",
       "2   2.68175  0.1170  5.892752\n",
       "3   2.65450  0.1365  5.842828\n",
       "4   2.64300  0.1560  5.793743\n",
       "..      ...     ...       ...\n",
       "95  2.61100  0.0530  5.832604\n",
       "96  2.59950  0.0725  5.783690\n",
       "97  2.58800  0.0920  5.735589\n",
       "98  2.57650  0.1115  5.688282\n",
       "99  2.58450  0.0600  5.782018\n",
       "\n",
       "[100 rows x 3 columns]"
      ]
     },
     "execution_count": 34,
     "metadata": {},
     "output_type": "execute_result"
    }
   ],
   "source": [
    "print('Missing vlaues:')\n",
    "print(data_with_out_NAN.isna().sum())\n",
    "data_with_out_NAN"
   ]
  },
  {
   "cell_type": "code",
   "execution_count": 35,
   "metadata": {
    "ExecuteTime": {
     "end_time": "2024-04-11T13:10:58.850776Z",
     "start_time": "2024-04-11T13:10:58.760111Z"
    }
   },
   "outputs": [],
   "source": [
    "model = load('12.joblib')"
   ]
  },
  {
   "cell_type": "code",
   "execution_count": 36,
   "metadata": {
    "ExecuteTime": {
     "end_time": "2024-04-11T13:11:03.446597Z",
     "start_time": "2024-04-11T13:11:03.041355Z"
    }
   },
   "outputs": [
    {
     "data": {
      "text/plain": [
       "array([853.2812 , 860.5459 , 872.96515, 894.7734 , 897.6668 , 913.9954 ,\n",
       "       925.2927 , 836.3218 , 841.4907 , 856.33044, 981.32764, 908.3473 ,\n",
       "       900.45917, 911.72925, 825.0011 , 840.0376 , 857.8212 , 868.93835,\n",
       "       880.6438 , 892.50275, 904.2699 , 822.60333, 847.39874, 837.83185,\n",
       "       848.2253 , 862.474  , 883.7555 , 893.5941 , 852.2699 , 866.0544 ,\n",
       "       839.4088 , 851.7682 , 862.64435, 873.3781 , 887.2294 , 813.1881 ,\n",
       "       830.29645, 842.7314 , 854.53723, 857.91376, 877.9623 , 821.3658 ,\n",
       "       834.19037, 845.3136 , 855.40594, 869.3879 , 823.8073 , 835.75305,\n",
       "       847.85547, 860.60223, 826.69476, 840.2569 , 851.4484 , 830.0755 ,\n",
       "       842.82135, 833.95746, 843.1307 , 853.4048 , 865.9311 , 877.7714 ,\n",
       "       889.35596, 901.2615 , 910.27136, 830.8535 , 845.62915, 857.30304,\n",
       "       869.14484, 880.79694, 892.33356, 904.55365, 820.98456, 837.0594 ,\n",
       "       848.74567, 860.15985, 871.39233, 884.76917, 895.37305, 814.33124,\n",
       "       824.0424 , 839.6789 , 847.58514, 867.1133 , 875.2503 , 888.12256,\n",
       "       816.33484, 831.10986, 843.0322 , 866.6489 , 878.1602 , 878.4887 ,\n",
       "       820.2077 , 833.2696 , 843.4914 , 857.3552 , 869.27185, 825.07294,\n",
       "       837.66565, 849.4536 , 859.96515, 828.2198 ], dtype=float32)"
      ]
     },
     "execution_count": 36,
     "metadata": {},
     "output_type": "execute_result"
    }
   ],
   "source": [
    "PC_predicted = model.predict(data_with_out_NAN)\n",
    "PC_predicted"
   ]
  }
 ],
 "metadata": {
  "accelerator": "GPU",
  "colab": {
   "collapsed_sections": [
    "-UUSIJ53bb71",
    "WoB9TsN-bh3c",
    "Ny9-K4BUcP28",
    "SmDbP9EopmQP",
    "XvhW1rX6q6u2",
    "dAfBugJyrEEx",
    "l2m4wS4_uvyJ",
    "Fia4jf1Ujy8s",
    "6nk8YUkRyb-v",
    "T-myGv65RaGA",
    "SMVFb6VBbGW3",
    "IB6nXZdeVq9q",
    "jGeLpvHEVviv",
    "LeJrDwj8VzYI"
   ],
   "provenance": []
  },
  "gpuClass": "premium",
  "kernelspec": {
   "display_name": "Python 3 (ipykernel)",
   "language": "python",
   "name": "python3"
  },
  "language_info": {
   "codemirror_mode": {
    "name": "ipython",
    "version": 3
   },
   "file_extension": ".py",
   "mimetype": "text/x-python",
   "name": "python",
   "nbconvert_exporter": "python",
   "pygments_lexer": "ipython3",
   "version": "3.9.12"
  },
  "toc": {
   "base_numbering": 1,
   "nav_menu": {},
   "number_sections": true,
   "sideBar": true,
   "skip_h1_title": false,
   "title_cell": "Table of Contents",
   "title_sidebar": "Contents",
   "toc_cell": false,
   "toc_position": {},
   "toc_section_display": true,
   "toc_window_display": false
  },
  "varInspector": {
   "cols": {
    "lenName": 16,
    "lenType": 16,
    "lenVar": 40
   },
   "kernels_config": {
    "python": {
     "delete_cmd_postfix": "",
     "delete_cmd_prefix": "del ",
     "library": "var_list.py",
     "varRefreshCmd": "print(var_dic_list())"
    },
    "r": {
     "delete_cmd_postfix": ") ",
     "delete_cmd_prefix": "rm(",
     "library": "var_list.r",
     "varRefreshCmd": "cat(var_dic_list()) "
    }
   },
   "types_to_exclude": [
    "module",
    "function",
    "builtin_function_or_method",
    "instance",
    "_Feature"
   ],
   "window_display": false
  },
  "vscode": {
   "interpreter": {
    "hash": "49cb93f377a7abe7414b7b0f21fb3017538004a126cf690fb524202736b7fb92"
   }
  }
 },
 "nbformat": 4,
 "nbformat_minor": 1
}
