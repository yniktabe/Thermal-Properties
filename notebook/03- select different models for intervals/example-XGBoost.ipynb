{
 "cells": [
  {
   "cell_type": "markdown",
   "metadata": {},
   "source": [
    "- This example is for the clastic rock group.\n",
    "- In this example, three different models are used for three specific depth intervals.\n",
    "- For the first interval [RHOB, PHIN], for the second interval [RHOB, PHIN, Vp] and finally for the third interval [RHOB, Vp] are known."
   ]
  },
  {
   "cell_type": "code",
   "execution_count": 1,
   "metadata": {
    "ExecuteTime": {
     "end_time": "2024-04-11T13:16:17.768853Z",
     "start_time": "2024-04-11T13:16:17.270487Z"
    },
    "colab": {
     "base_uri": "https://localhost:8080/"
    },
    "id": "naLFqv7hau0U",
    "outputId": "d4c2b8e8-c0c6-4a03-c97e-8218872ebd2d"
   },
   "outputs": [],
   "source": [
    "import pandas as pd\n",
    "import numpy as np\n",
    "from joblib import load"
   ]
  },
  {
   "cell_type": "code",
   "execution_count": 2,
   "metadata": {
    "ExecuteTime": {
     "end_time": "2024-04-11T13:16:31.791157Z",
     "start_time": "2024-04-11T13:16:31.760750Z"
    },
    "colab": {
     "base_uri": "https://localhost:8080/",
     "height": 224
    },
    "id": "OluFe6-Oa2Ss",
    "outputId": "89bf0456-3326-41ae-84c5-bb9a247de29c"
   },
   "outputs": [
    {
     "data": {
      "text/html": [
       "<div>\n",
       "<style scoped>\n",
       "    .dataframe tbody tr th:only-of-type {\n",
       "        vertical-align: middle;\n",
       "    }\n",
       "\n",
       "    .dataframe tbody tr th {\n",
       "        vertical-align: top;\n",
       "    }\n",
       "\n",
       "    .dataframe thead th {\n",
       "        text-align: right;\n",
       "    }\n",
       "</style>\n",
       "<table border=\"1\" class=\"dataframe\">\n",
       "  <thead>\n",
       "    <tr style=\"text-align: right;\">\n",
       "      <th></th>\n",
       "      <th>RHOB</th>\n",
       "      <th>PHIN</th>\n",
       "      <th>Vp</th>\n",
       "      <th>Interval</th>\n",
       "    </tr>\n",
       "  </thead>\n",
       "  <tbody>\n",
       "    <tr>\n",
       "      <th>0</th>\n",
       "      <td>2.7190</td>\n",
       "      <td>0.0780</td>\n",
       "      <td>NaN</td>\n",
       "      <td>1</td>\n",
       "    </tr>\n",
       "    <tr>\n",
       "      <th>1</th>\n",
       "      <td>2.7075</td>\n",
       "      <td>0.0975</td>\n",
       "      <td>NaN</td>\n",
       "      <td>1</td>\n",
       "    </tr>\n",
       "    <tr>\n",
       "      <th>2</th>\n",
       "      <td>2.6960</td>\n",
       "      <td>0.1170</td>\n",
       "      <td>NaN</td>\n",
       "      <td>1</td>\n",
       "    </tr>\n",
       "    <tr>\n",
       "      <th>3</th>\n",
       "      <td>2.6845</td>\n",
       "      <td>0.1365</td>\n",
       "      <td>NaN</td>\n",
       "      <td>1</td>\n",
       "    </tr>\n",
       "    <tr>\n",
       "      <th>4</th>\n",
       "      <td>2.6730</td>\n",
       "      <td>0.1560</td>\n",
       "      <td>NaN</td>\n",
       "      <td>1</td>\n",
       "    </tr>\n",
       "  </tbody>\n",
       "</table>\n",
       "</div>"
      ],
      "text/plain": [
       "     RHOB    PHIN  Vp  Interval\n",
       "0  2.7190  0.0780 NaN         1\n",
       "1  2.7075  0.0975 NaN         1\n",
       "2  2.6960  0.1170 NaN         1\n",
       "3  2.6845  0.1365 NaN         1\n",
       "4  2.6730  0.1560 NaN         1"
      ]
     },
     "execution_count": 2,
     "metadata": {},
     "output_type": "execute_result"
    }
   ],
   "source": [
    "data = pd.read_csv('Carbonates.csv').drop('Unnamed: 0', axis=1)\n",
    "data.head()"
   ]
  },
  {
   "cell_type": "code",
   "execution_count": 6,
   "metadata": {
    "ExecuteTime": {
     "end_time": "2024-04-11T13:18:24.398619Z",
     "start_time": "2024-04-11T13:18:24.387175Z"
    }
   },
   "outputs": [
    {
     "data": {
      "text/plain": [
       "array([1, 4])"
      ]
     },
     "execution_count": 6,
     "metadata": {},
     "output_type": "execute_result"
    }
   ],
   "source": [
    "np.array([1,4])"
   ]
  },
  {
   "cell_type": "markdown",
   "metadata": {},
   "source": [
    "- Select models base on features and in csv file need define intervals (in this example 1,2 and 3) \\\n",
    "['RHOB', 'PHIN'] >>> model 5 \\\n",
    "['RHOB', 'Vp'] >>> model 7  \\\n",
    "['RHOB', 'PHIN', 'Vp'] >>> model 12"
   ]
  },
  {
   "cell_type": "code",
   "execution_count": 25,
   "metadata": {
    "ExecuteTime": {
     "end_time": "2024-04-11T13:29:46.385435Z",
     "start_time": "2024-04-11T13:29:46.205582Z"
    }
   },
   "outputs": [
    {
     "name": "stderr",
     "output_type": "stream",
     "text": [
      "C:\\Users\\esfahani\\AppData\\Local\\Temp\\ipykernel_13668\\3647844316.py:2: VisibleDeprecationWarning: Creating an ndarray from ragged nested sequences (which is a list-or-tuple of lists-or-tuples-or ndarrays with different lengths or shapes) is deprecated. If you meant to do this, you must specify 'dtype=object' when creating the ndarray.\n",
      "  Features = np.array([['RHOB','PHIN'],['RHOB','PHIN','Vp'],['RHOB','Vp']])\n"
     ]
    }
   ],
   "source": [
    "Intervals = np.array([1, 2, 3])\n",
    "Features = np.array([['RHOB','PHIN'],['RHOB','PHIN','Vp'],['RHOB','Vp']])\n",
    "Models = np.array([load('5.joblib'), load('12.joblib'), load('7.joblib')])"
   ]
  },
  {
   "cell_type": "code",
   "execution_count": 42,
   "metadata": {
    "ExecuteTime": {
     "end_time": "2024-04-11T13:32:56.655158Z",
     "start_time": "2024-04-11T13:32:56.208125Z"
    }
   },
   "outputs": [
    {
     "name": "stdout",
     "output_type": "stream",
     "text": [
      "['RHOB', 'PHIN']\n",
      "      RHOB    PHIN\n",
      "0   2.7190  0.0780\n",
      "1   2.7075  0.0975\n",
      "2   2.6960  0.1170\n",
      "3   2.6845  0.1365\n",
      "4   2.6730  0.1560\n",
      "5   2.6615  0.1755\n",
      "6   2.6500  0.1950\n",
      "7   2.7040  0.0655\n",
      "8   2.6925  0.0850\n",
      "9   2.6810  0.1045\n",
      "10  2.6695  0.1240\n",
      "11  2.6580  0.1435\n",
      "12  2.6465  0.1630\n",
      "13  2.6350  0.1825\n",
      "14  2.6890  0.0530\n",
      "15  2.6775  0.0725\n",
      "16  2.6660  0.0920\n",
      "17  2.6545  0.1115\n",
      "18  2.6430  0.1310\n",
      "19  2.6315  0.1505\n",
      "20  2.6200  0.1700\n",
      "21  2.6740  0.0405\n",
      "22  2.6625  0.0600\n",
      "23  2.6510  0.0795\n",
      "24  2.6395  0.0990\n",
      "25  2.6280  0.1185\n",
      "26  2.6165  0.1380\n",
      "27  2.6050  0.1575\n",
      "28  2.6590  0.0280\n",
      "29  2.6475  0.0475\n",
      "30  2.6360  0.0670\n",
      "31  2.6245  0.0865\n",
      "32  2.6130  0.1060\n",
      "33  2.6015  0.1255\n",
      "34  2.5900  0.1450\n",
      "35  2.6325  0.0350\n",
      "36  2.6210  0.0545\n",
      "37  2.6095  0.0740\n",
      "38  2.5980  0.0935\n",
      "39  2.5865  0.1130\n",
      "40  2.5750  0.1325\n",
      "41  2.6060  0.0420\n",
      "42  2.5945  0.0615\n",
      "43  2.5830  0.0810\n",
      "44  2.5715  0.1005\n",
      "45  2.5600  0.1200\n",
      "46  2.5795  0.0490\n",
      "47  2.5680  0.0685\n",
      "48  2.5565  0.0880\n",
      "49  2.5450  0.1075\n",
      "50  2.5530  0.0560\n",
      "51  2.5415  0.0755\n",
      "52  2.5300  0.0950\n",
      "53  2.5265  0.0630\n",
      "['RHOB', 'PHIN', 'Vp']\n",
      "      RHOB    PHIN        Vp\n",
      "54  2.5150  0.0825  5.683433\n",
      "55  2.5000  0.0700  5.681818\n",
      "56  2.7355  0.0695  5.995204\n",
      "57  2.7240  0.0890  5.943536\n",
      "58  2.7125  0.1085  5.892752\n",
      "59  2.7010  0.1280  5.842828\n",
      "60  2.6895  0.1475  5.793743\n",
      "61  2.6780  0.1670  5.745475\n",
      "62  2.6665  0.1865  5.698006\n",
      "63  2.7205  0.0570  5.993407\n",
      "64  2.7090  0.0765  5.941771\n",
      "65  2.6975  0.0960  5.891016\n",
      "66  2.6860  0.1155  5.841121\n",
      "67  2.6745  0.1350  5.792065\n",
      "68  2.6630  0.1545  5.743825\n",
      "69  2.6515  0.1740  5.696383\n",
      "70  2.7055  0.0445  5.991612\n",
      "71  2.6940  0.0640  5.940006\n",
      "72  2.6825  0.0835  5.889282\n",
      "73  2.6710  0.1030  5.839416\n",
      "74  2.6595  0.1225  5.790388\n",
      "75  2.6480  0.1420  5.742176\n",
      "76  2.6365  0.1615  5.694761\n",
      "77  2.6905  0.0320  5.989817\n",
      "78  2.6790  0.0515  5.938242\n",
      "['RHOB', 'Vp']\n",
      "      RHOB        Vp\n",
      "79  2.6675  5.887548\n",
      "80  2.6560  5.837712\n",
      "81  2.6445  5.788712\n",
      "82  2.6330  5.740528\n",
      "83  2.6215  5.693140\n",
      "84  2.6640  5.936480\n",
      "85  2.6525  5.885815\n",
      "86  2.6410  5.836008\n",
      "87  2.6295  5.787037\n",
      "88  2.6180  5.738881\n",
      "89  2.6065  5.691520\n",
      "90  2.6375  5.884084\n",
      "91  2.6260  5.834306\n",
      "92  2.6145  5.785363\n",
      "93  2.6030  5.737235\n",
      "94  2.5915  5.689900\n",
      "95  2.6110  5.832604\n",
      "96  2.5995  5.783690\n",
      "97  2.5880  5.735589\n",
      "98  2.5765  5.688282\n",
      "99  2.5845  5.782018\n"
     ]
    }
   ],
   "source": [
    "PC_predicted = []\n",
    "for i, model in zip(Intervals, Models):\n",
    "    print(Features[i-1])\n",
    "    print(data[data['Interval']==i][Features[i-1]])\n",
    "    PC_predicted.append(model.predict(data[data['Interval']==i][Features[i-1]]))"
   ]
  },
  {
   "cell_type": "code",
   "execution_count": 43,
   "metadata": {
    "ExecuteTime": {
     "end_time": "2024-04-11T13:32:57.715148Z",
     "start_time": "2024-04-11T13:32:57.704820Z"
    }
   },
   "outputs": [
    {
     "name": "stderr",
     "output_type": "stream",
     "text": [
      "C:\\Users\\esfahani\\AppData\\Local\\Temp\\ipykernel_13668\\2612614859.py:1: VisibleDeprecationWarning: Creating an ndarray from ragged nested sequences (which is a list-or-tuple of lists-or-tuples-or ndarrays with different lengths or shapes) is deprecated. If you meant to do this, you must specify 'dtype=object' when creating the ndarray.\n",
      "  np.array(PC_predicted)\n"
     ]
    },
    {
     "data": {
      "text/plain": [
       "array([array([ 777.3601 ,  791.0509 ,  849.7236 ,  876.4453 ,  908.3245 ,\n",
       "               921.44165,  936.0188 ,  754.8322 ,  767.12225,  804.5384 ,\n",
       "               857.19385,  880.25836,  922.7641 ,  912.61914,  762.3383 ,\n",
       "               769.2468 ,  777.3641 ,  842.7965 ,  863.06647,  913.9471 ,\n",
       "               990.72955,  748.31537,  789.66345,  828.1954 ,  850.23987,\n",
       "               856.8175 ,  880.1552 ,  922.9273 ,  750.0932 ,  768.0066 ,\n",
       "               797.8237 ,  807.5337 ,  819.05115,  924.61707,  931.10986,\n",
       "               784.92413,  803.3983 ,  816.5112 ,  855.50104,  872.3072 ,\n",
       "               932.3168 ,  798.8816 ,  844.8746 ,  840.39624,  854.5328 ,\n",
       "               907.5414 ,  788.3921 ,  827.7768 ,  862.80664,  901.21045,\n",
       "               808.205  ,  832.2323 , 1015.5409 ,  809.25195], dtype=float32),\n",
       "       array([842.82135, 833.95746, 843.1307 , 853.4048 , 865.9311 , 877.7714 ,\n",
       "              889.35596, 901.2615 , 910.27136, 830.8535 , 845.62915, 857.30304,\n",
       "              869.14484, 880.79694, 892.33356, 904.55365, 820.98456, 837.0594 ,\n",
       "              848.74567, 860.15985, 871.39233, 884.76917, 895.37305, 814.33124,\n",
       "              826.86597], dtype=float32)                                       ,\n",
       "       array([753.34784, 755.2841 , 756.7242 , 759.3046 , 758.96796, 754.3959 ,\n",
       "              755.2841 , 756.7242 , 758.0827 , 758.63336, 760.77893, 757.8044 ,\n",
       "              757.7633 , 758.26904, 761.4124 , 761.8361 , 759.30176, 760.88794,\n",
       "              761.7751 , 763.38824, 760.5975 ], dtype=float32)                 ],\n",
       "      dtype=object)"
      ]
     },
     "execution_count": 43,
     "metadata": {},
     "output_type": "execute_result"
    }
   ],
   "source": [
    "np.array(PC_predicted)"
   ]
  },
  {
   "cell_type": "code",
   "execution_count": null,
   "metadata": {},
   "outputs": [],
   "source": []
  }
 ],
 "metadata": {
  "accelerator": "GPU",
  "colab": {
   "collapsed_sections": [
    "-UUSIJ53bb71",
    "WoB9TsN-bh3c",
    "Ny9-K4BUcP28",
    "SmDbP9EopmQP",
    "XvhW1rX6q6u2",
    "dAfBugJyrEEx",
    "l2m4wS4_uvyJ",
    "Fia4jf1Ujy8s",
    "6nk8YUkRyb-v",
    "T-myGv65RaGA",
    "SMVFb6VBbGW3",
    "IB6nXZdeVq9q",
    "jGeLpvHEVviv",
    "LeJrDwj8VzYI"
   ],
   "provenance": []
  },
  "gpuClass": "premium",
  "kernelspec": {
   "display_name": "Python 3 (ipykernel)",
   "language": "python",
   "name": "python3"
  },
  "language_info": {
   "codemirror_mode": {
    "name": "ipython",
    "version": 3
   },
   "file_extension": ".py",
   "mimetype": "text/x-python",
   "name": "python",
   "nbconvert_exporter": "python",
   "pygments_lexer": "ipython3",
   "version": "3.9.12"
  },
  "toc": {
   "base_numbering": 1,
   "nav_menu": {},
   "number_sections": true,
   "sideBar": true,
   "skip_h1_title": false,
   "title_cell": "Table of Contents",
   "title_sidebar": "Contents",
   "toc_cell": false,
   "toc_position": {},
   "toc_section_display": true,
   "toc_window_display": false
  },
  "varInspector": {
   "cols": {
    "lenName": 16,
    "lenType": 16,
    "lenVar": 40
   },
   "kernels_config": {
    "python": {
     "delete_cmd_postfix": "",
     "delete_cmd_prefix": "del ",
     "library": "var_list.py",
     "varRefreshCmd": "print(var_dic_list())"
    },
    "r": {
     "delete_cmd_postfix": ") ",
     "delete_cmd_prefix": "rm(",
     "library": "var_list.r",
     "varRefreshCmd": "cat(var_dic_list()) "
    }
   },
   "types_to_exclude": [
    "module",
    "function",
    "builtin_function_or_method",
    "instance",
    "_Feature"
   ],
   "window_display": false
  },
  "vscode": {
   "interpreter": {
    "hash": "49cb93f377a7abe7414b7b0f21fb3017538004a126cf690fb524202736b7fb92"
   }
  }
 },
 "nbformat": 4,
 "nbformat_minor": 1
}
